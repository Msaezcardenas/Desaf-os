{
 "cells": [
  {
   "cell_type": "markdown",
   "id": "f379c8f8-f178-4da1-9b46-68fb7403e446",
   "metadata": {},
   "source": [
    "1. Suma de numeros pares"
   ]
  },
  {
   "cell_type": "code",
   "execution_count": null,
   "id": "d8fd4265-6e4f-4bec-9c53-a7ade421a2c2",
   "metadata": {},
   "outputs": [],
   "source": [
    "#pedimos al usuario ingresar 2 numeros y lo transformamos a numerico\n",
    "inicio = int(input('ingrese primer numero entero'))\n",
    "fin = int(input('ingrese segundo numero entero'))\n",
    "\n",
    "#ordenamos el rango\n",
    "if inicio > fin:\n",
    "    inicio, fin = fin, inicio\n",
    "\n",
    "suma_de_pares = 0\n",
    "#sumamos todos los numeros pares entre ellos\n",
    "for numero in range(inicio, fin +1):\n",
    "    if numero % 2 == 0:\n",
    "        suma_de_pares += numero\n",
    "#imprimimos la suma\n",
    "print(f\"la suma de numeros pares entre {inicio} y {fin} es: {suma_de_pares}\")\n",
    "    "
   ]
  },
  {
   "cell_type": "markdown",
   "id": "239a8075-5052-45ca-9b3a-70fc6f7bc9d2",
   "metadata": {},
   "source": [
    "2. Calculadora de Areas"
   ]
  },
  {
   "cell_type": "code",
   "execution_count": 14,
   "id": "9fe2930c-5074-44ee-8e95-fc5cea06d5ce",
   "metadata": {},
   "outputs": [
    {
     "name": "stdout",
     "output_type": "stream",
     "text": [
      "¿De qué figura quieres calcular el área?\n",
      "Opciones: cuadrado, triángulo, círculo\n"
     ]
    },
    {
     "name": "stdin",
     "output_type": "stream",
     "text": [
      "Escribe el nombre de la figura:  triangulo\n",
      "Ingresa la base del triángulo:  5\n",
      "Ingresa la altura del triángulo:  5\n"
     ]
    },
    {
     "name": "stdout",
     "output_type": "stream",
     "text": [
      "\n",
      "✅ El área del triangulo es: 12.50\n"
     ]
    }
   ],
   "source": [
    "import math\n",
    "\n",
    "def pedir_float(mensaje):\n",
    "    while True:\n",
    "        entrada = input(mensaje)\n",
    "        if entrada.strip() == '':\n",
    "            print(\"⚠️ El valor no puede estar vacío. Intenta de nuevo.\")\n",
    "            continue\n",
    "        try:\n",
    "            return float(entrada)\n",
    "        except ValueError:\n",
    "            print(\"❌ Ingresa un número válido.\")\n",
    "\n",
    "# Mostrar opciones y pedir tipo de figura\n",
    "print(\"¿De qué figura quieres calcular el área?\")\n",
    "print(\"Opciones: cuadrado, triángulo, círculo\")\n",
    "figura = input(\"Escribe el nombre de la figura: \").strip().lower()\n",
    "\n",
    "area = 0\n",
    "\n",
    "if figura == 'cuadrado':\n",
    "    lado = pedir_float(\"Ingresa la longitud del lado: \")\n",
    "    area = lado ** 2\n",
    "\n",
    "elif figura == 'triángulo' or figura == 'triangulo':\n",
    "    base = pedir_float(\"Ingresa la base del triángulo: \")\n",
    "    altura = pedir_float(\"Ingresa la altura del triángulo: \")\n",
    "    area = (base * altura) / 2\n",
    "\n",
    "elif figura == 'círculo' or figura == 'circulo':\n",
    "    radio = pedir_float(\"Ingresa el radio del círculo: \")\n",
    "    area = math.pi * (radio ** 2)\n",
    "\n",
    "else:\n",
    "    print(\"❗ Figura no reconocida. Debes escribir cuadrado, triángulo o círculo.\")\n",
    "\n",
    "# Mostrar resultado si se calculó\n",
    "if area > 0:\n",
    "    print(f\"\\n✅ El área del {figura} es: {area:.2f}\")\n"
   ]
  },
  {
   "cell_type": "markdown",
   "id": "b18e4908-45cd-4798-96d9-d56671896ca8",
   "metadata": {},
   "source": [
    "3. Adivina el numero"
   ]
  },
  {
   "cell_type": "code",
   "execution_count": 31,
   "id": "20912750-3b84-46ee-b02f-d66eb7a56fd9",
   "metadata": {},
   "outputs": [
    {
     "name": "stdout",
     "output_type": "stream",
     "text": [
      "20\n"
     ]
    },
    {
     "name": "stdin",
     "output_type": "stream",
     "text": [
      "Adivina el numero 8\n"
     ]
    },
    {
     "name": "stdout",
     "output_type": "stream",
     "text": [
      "Más Alto\n"
     ]
    },
    {
     "name": "stdin",
     "output_type": "stream",
     "text": [
      "Adivina de nuevo 10\n"
     ]
    },
    {
     "name": "stdout",
     "output_type": "stream",
     "text": [
      "Más Alto\n"
     ]
    },
    {
     "name": "stdin",
     "output_type": "stream",
     "text": [
      "Adivina de nuevo 25\n"
     ]
    },
    {
     "name": "stdout",
     "output_type": "stream",
     "text": [
      "Más Bajo\n"
     ]
    },
    {
     "name": "stdin",
     "output_type": "stream",
     "text": [
      "Adivina de nuevo 20\n"
     ]
    },
    {
     "name": "stdout",
     "output_type": "stream",
     "text": [
      "Adivinaste!!!\n"
     ]
    }
   ],
   "source": [
    "import random\n",
    "\n",
    "numero_aleatorio = random.randint(1, 100)\n",
    "print(numero_aleatorio)\n",
    "\n",
    "numero_elegido = int(input('Adivina el numero'))\n",
    "\n",
    "while numero_aleatorio != numero_elegido:\n",
    "    if(numero_aleatorio > numero_elegido):\n",
    "        print('Más Alto')\n",
    "    elif(numero_aleatorio < numero_elegido):\n",
    "        print('Más Bajo')\n",
    "    numero_elegido = int(input('Adivina de nuevo'))\n",
    "\n",
    "print('Adivinaste!!!')"
   ]
  },
  {
   "cell_type": "code",
   "execution_count": null,
   "id": "9f82fefe-33b3-4f7e-9f92-b80f32d58dcb",
   "metadata": {},
   "outputs": [],
   "source": []
  }
 ],
 "metadata": {
  "kernelspec": {
   "display_name": "Python 3 (ipykernel)",
   "language": "python",
   "name": "python3"
  },
  "language_info": {
   "codemirror_mode": {
    "name": "ipython",
    "version": 3
   },
   "file_extension": ".py",
   "mimetype": "text/x-python",
   "name": "python",
   "nbconvert_exporter": "python",
   "pygments_lexer": "ipython3",
   "version": "3.13.2"
  }
 },
 "nbformat": 4,
 "nbformat_minor": 5
}
