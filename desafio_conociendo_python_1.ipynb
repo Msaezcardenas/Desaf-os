{
  "cells": [
    {
      "cell_type": "markdown",
      "metadata": {
        "id": "view-in-github",
        "colab_type": "text"
      },
      "source": [
        "<a href=\"https://colab.research.google.com/github/Msaezcardenas/Desaf-os/blob/main/desafio_conociendo_python_1.ipynb\" target=\"_parent\"><img src=\"https://colab.research.google.com/assets/colab-badge.svg\" alt=\"Open In Colab\"/></a>"
      ]
    },
    {
      "cell_type": "markdown",
      "id": "691659a9",
      "metadata": {
        "id": "691659a9"
      },
      "source": [
        "# Desafío: Conociendo Python (Parte I)\n",
        "\n",
        "Este notebook contiene las soluciones al desafío propuesto en Desafío Latam, donde se aplican conceptos básicos de Python para resolver situaciones cotidianas."
      ]
    },
    {
      "cell_type": "markdown",
      "id": "9b1a4aec",
      "metadata": {
        "id": "9b1a4aec"
      },
      "source": [
        "## Ejercicio 1: Calculando el salario semanal\n",
        "Un vendedor gana un salario base de $500 más una comisión del 10% sobre sus ventas totales. Escribe un programa donde se pueda ingresar el monto de las ventas totales del vendedor y calcule su salario total."
      ]
    },
    {
      "cell_type": "code",
      "execution_count": null,
      "id": "41cbd07e",
      "metadata": {
        "id": "41cbd07e",
        "outputId": "aad38766-ef43-4ac9-d5da-a03f0540ce53"
      },
      "outputs": [
        {
          "name": "stdin",
          "output_type": "stream",
          "text": [
            "Ingresa el monto total de tus ventas esta semana:  50000\n"
          ]
        },
        {
          "name": "stdout",
          "output_type": "stream",
          "text": [
            "Tu salario total esta semana es: $5500.00\n"
          ]
        }
      ],
      "source": [
        "# Solicitamos al usuario el monto de sus ventas\n",
        "ventas = float(input(\"Ingresa el monto total de tus ventas esta semana: \"))\n",
        "\n",
        "# Salario base y comisión\n",
        "salario_base = 500\n",
        "comision = ventas * 0.10\n",
        "salario_total = salario_base + comision\n",
        "\n",
        "# Resultado\n",
        "print(f\"Tu salario total esta semana es: ${salario_total:.2f}\")"
      ]
    },
    {
      "cell_type": "markdown",
      "id": "1d8b3518",
      "metadata": {
        "id": "1d8b3518"
      },
      "source": [
        "## Ejercicio 2: Bienvenido a la frutería virtual\n",
        "Vamos a crear un diccionario con frutas y sus precios. Luego, el usuario ingresará una fruta y mostraremos su precio si está disponible."
      ]
    },
    {
      "cell_type": "code",
      "execution_count": null,
      "id": "a7439a62",
      "metadata": {
        "id": "a7439a62",
        "outputId": "85c2db6c-1835-458b-8c54-ccdd5882d3c7"
      },
      "outputs": [
        {
          "name": "stdin",
          "output_type": "stream",
          "text": [
            "¿Qué fruta deseas consultar?:  pera\n"
          ]
        },
        {
          "name": "stdout",
          "output_type": "stream",
          "text": [
            "El precio de la pera es $950 por kilo.\n"
          ]
        }
      ],
      "source": [
        "# Diccionario de frutas y precios\n",
        "catalogo_frutas = {\n",
        "    \"manzana\": 1000,\n",
        "    \"platano\": 800,\n",
        "    \"naranja\": 1200,\n",
        "    \"pera\": 950\n",
        "}\n",
        "\n",
        "# Solicitar fruta al usuario\n",
        "fruta = input(\"¿Qué fruta deseas consultar?: \").lower()\n",
        "\n",
        "# Verificar disponibilidad\n",
        "if fruta in catalogo_frutas:\n",
        "    print(f\"El precio de la {fruta} es ${catalogo_frutas[fruta]} por kilo.\")\n",
        "else:\n",
        "    print(\"Lo sentimos, no tenemos esa fruta en nuestra tienda.\")\n"
      ]
    },
    {
      "cell_type": "markdown",
      "id": "f2a84946",
      "metadata": {
        "id": "f2a84946"
      },
      "source": [
        "## Ejercicio 3: Bienvenido al casino\n",
        "Simularemos el lanzamiento de dos dados utilizando la librería `random` y mostraremos los valores y su suma."
      ]
    },
    {
      "cell_type": "code",
      "execution_count": null,
      "id": "45fa54b8",
      "metadata": {
        "id": "45fa54b8",
        "outputId": "954437f8-699f-4ba0-83b1-7368964a5ea4"
      },
      "outputs": [
        {
          "name": "stdout",
          "output_type": "stream",
          "text": [
            "Dado 1: 3\n",
            "Dado 2: 6\n",
            "Suma de los dados: 9\n"
          ]
        }
      ],
      "source": [
        "import random\n",
        "\n",
        "# Generar valores aleatorios entre 1 y 6 para dos dados\n",
        "dado1 = random.randint(1, 6)\n",
        "dado2 = random.randint(1, 6)\n",
        "suma = dado1 + dado2\n",
        "\n",
        "# Mostrar resultados\n",
        "print(f\"Dado 1: {dado1}\")\n",
        "print(f\"Dado 2: {dado2}\")\n",
        "print(f\"Suma de los dados: {suma}\")"
      ]
    },
    {
      "cell_type": "markdown",
      "id": "26a157d0",
      "metadata": {
        "id": "26a157d0"
      },
      "source": [
        "## Ejercicio 4: Calculadora de chocolate\n",
        "Calcularemos cuántas porciones de chocolate puede comer una persona sin pasarse de su límite diario de calorías."
      ]
    },
    {
      "cell_type": "code",
      "execution_count": null,
      "id": "5ef7cc88",
      "metadata": {
        "id": "5ef7cc88",
        "outputId": "ac8026a0-f6ae-4ef9-fc9b-fd80195442ca"
      },
      "outputs": [
        {
          "name": "stdin",
          "output_type": "stream",
          "text": [
            "¿Cuál es tu límite diario de calorías?:  1500\n",
            "¿Cuántas calorías tiene una porción de chocolate?:  150\n"
          ]
        },
        {
          "name": "stdout",
          "output_type": "stream",
          "text": [
            "Puedes comer hasta 10 porciones de chocolate sin exceder tu límite diario de calorías.\n"
          ]
        }
      ],
      "source": [
        "# Solicitar datos al usuario\n",
        "limite_calorias = int(input(\"¿Cuál es tu límite diario de calorías?: \"))\n",
        "calorias_por_porcion = int(input(\"¿Cuántas calorías tiene una porción de chocolate?: \"))\n",
        "\n",
        "# Calcular la cantidad máxima de porciones\n",
        "max_porciones = limite_calorias // calorias_por_porcion\n",
        "\n",
        "# Mostrar resultado\n",
        "print(f\"Puedes comer hasta {max_porciones} porciones de chocolate sin exceder tu límite diario de calorías.\")"
      ]
    },
    {
      "cell_type": "code",
      "execution_count": null,
      "id": "b938b6d0-8e4b-4263-b663-49e2ffc01b8c",
      "metadata": {
        "id": "b938b6d0-8e4b-4263-b663-49e2ffc01b8c"
      },
      "outputs": [],
      "source": []
    }
  ],
  "metadata": {
    "kernelspec": {
      "display_name": "Python 3 (ipykernel)",
      "language": "python",
      "name": "python3"
    },
    "language_info": {
      "codemirror_mode": {
        "name": "ipython",
        "version": 3
      },
      "file_extension": ".py",
      "mimetype": "text/x-python",
      "name": "python",
      "nbconvert_exporter": "python",
      "pygments_lexer": "ipython3",
      "version": "3.13.2"
    },
    "colab": {
      "provenance": [],
      "include_colab_link": true
    }
  },
  "nbformat": 4,
  "nbformat_minor": 5
}